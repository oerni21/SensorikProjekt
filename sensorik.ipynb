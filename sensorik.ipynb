{
 "cells": [
  {
   "cell_type": "markdown",
   "metadata": {},
   "source": [
    "# Lecture Sensorik\n",
    "*HS-KemptenFA204 WS 2018/2019 © R. Aue*"
   ]
  },
  {
   "cell_type": "markdown",
   "metadata": {},
   "source": [
    "## Basics Python"
   ]
  },
  {
   "cell_type": "markdown",
   "metadata": {},
   "source": [
    "### Example: add.py"
   ]
  },
  {
   "cell_type": "code",
   "execution_count": null,
   "metadata": {},
   "outputs": [],
   "source": [
    "# simple py-script add.py:\n",
    "\n",
    "# Greeting:\n",
    "print('Hello World\\n')\n",
    "\n",
    "# Calculation:\n",
    "a = 1\n",
    "b = 2\n",
    "\n",
    "print('Ergebnis = ' + str(a+b))"
   ]
  },
  {
   "cell_type": "markdown",
   "metadata": {},
   "source": [
    "### Example: integrate.py"
   ]
  },
  {
   "cell_type": "code",
   "execution_count": null,
   "metadata": {},
   "outputs": [],
   "source": [
    "%matplotlib inline\n",
    "from scipy import integrate\n",
    "import matplotlib.pyplot as plt\n",
    "import numpy as np\n",
    "import math as m\n",
    "\n",
    "# set up x_values with known spacing dx\n",
    "x_values = np.arange(0, m.pi, 0.0001)\n",
    "\n",
    "# compute function values\n",
    "# y_values = np.cos(np.exp(-x_values))\n",
    "# $\\int_{a}^{b}{sin(x) dx} = [-cos(x)]_a^b$\n",
    "y_values = np.abs(np.sin(x_values))\n",
    "\n",
    "\n",
    "# trapezoidal rule\n",
    "print(str(integrate.trapz(y_values, x_values, 0.01)))\n",
    "\n",
    "# simpson rule\n",
    "print(str(integrate.simps(y_values, x_values, 1)))\n",
    "\n",
    "\n",
    "# plot the data\n",
    "fig, ax = plt.subplots()\n",
    "\n",
    "ax.plot(x_values, y_values)\n",
    "\n",
    "ax.set(xlabel='angle (rad)', ylabel='voltage (V)',\n",
    "       title='integration.py')\n",
    "ax.grid()\n",
    "\n",
    "# fig.savefig(\"test.png\")\n",
    "plt.show()\n"
   ]
  }
 ],
 "metadata": {
  "kernelspec": {
   "display_name": "Python 3",
   "language": "python",
   "name": "python3"
  },
  "language_info": {
   "codemirror_mode": {
    "name": "ipython",
    "version": 3
   },
   "file_extension": ".py",
   "mimetype": "text/x-python",
   "name": "python",
   "nbconvert_exporter": "python",
   "pygments_lexer": "ipython3",
   "version": "3.7.0"
  }
 },
 "nbformat": 4,
 "nbformat_minor": 2
}
